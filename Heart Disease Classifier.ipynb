{
 "cells": [
  {
   "cell_type": "markdown",
   "id": "48f89e88",
   "metadata": {},
   "source": [
    "# HEART DISEASE CLASSIFICATION MINI-APP"
   ]
  },
  {
   "cell_type": "markdown",
   "id": "ea4ace65",
   "metadata": {},
   "source": [
    "## Part 1: Building The ML Model"
   ]
  },
  {
   "cell_type": "markdown",
   "id": "e0b52d5c",
   "metadata": {},
   "source": [
    "### Importing libraries"
   ]
  },
  {
   "cell_type": "code",
   "execution_count": 1,
   "id": "0e22d99a",
   "metadata": {},
   "outputs": [],
   "source": [
    "import pandas as pd\n",
    "import numpy as np\n",
    "import seaborn as sns\n",
    "import matplotlib as plt\n",
    "from sklearn.preprocessing import LabelEncoder\n",
    "from sklearn.model_selection import train_test_split\n",
    "from sklearn import metrics"
   ]
  },
  {
   "cell_type": "markdown",
   "id": "271c2b4c",
   "metadata": {},
   "source": [
    "### Reading the data"
   ]
  },
  {
   "cell_type": "code",
   "execution_count": 2,
   "id": "60bc74f1",
   "metadata": {},
   "outputs": [],
   "source": [
    "df = pd.read_csv('HeartDiseaseTrain-Test.csv')"
   ]
  },
  {
   "cell_type": "code",
   "execution_count": 3,
   "id": "e4fc1de6",
   "metadata": {},
   "outputs": [
    {
     "data": {
      "text/html": [
       "<div>\n",
       "<style scoped>\n",
       "    .dataframe tbody tr th:only-of-type {\n",
       "        vertical-align: middle;\n",
       "    }\n",
       "\n",
       "    .dataframe tbody tr th {\n",
       "        vertical-align: top;\n",
       "    }\n",
       "\n",
       "    .dataframe thead th {\n",
       "        text-align: right;\n",
       "    }\n",
       "</style>\n",
       "<table border=\"1\" class=\"dataframe\">\n",
       "  <thead>\n",
       "    <tr style=\"text-align: right;\">\n",
       "      <th></th>\n",
       "      <th>age</th>\n",
       "      <th>sex</th>\n",
       "      <th>chest_pain_type</th>\n",
       "      <th>resting_blood_pressure</th>\n",
       "      <th>cholestoral</th>\n",
       "      <th>fasting_blood_sugar</th>\n",
       "      <th>rest_ecg</th>\n",
       "      <th>Max_heart_rate</th>\n",
       "      <th>exercise_induced_angina</th>\n",
       "      <th>oldpeak</th>\n",
       "      <th>slope</th>\n",
       "      <th>vessels_colored_by_flourosopy</th>\n",
       "      <th>thalassemia</th>\n",
       "      <th>target</th>\n",
       "    </tr>\n",
       "  </thead>\n",
       "  <tbody>\n",
       "    <tr>\n",
       "      <th>0</th>\n",
       "      <td>52</td>\n",
       "      <td>Male</td>\n",
       "      <td>Typical angina</td>\n",
       "      <td>125</td>\n",
       "      <td>212</td>\n",
       "      <td>Lower than 120 mg/ml</td>\n",
       "      <td>ST-T wave abnormality</td>\n",
       "      <td>168</td>\n",
       "      <td>No</td>\n",
       "      <td>1.0</td>\n",
       "      <td>Downsloping</td>\n",
       "      <td>Two</td>\n",
       "      <td>Reversable Defect</td>\n",
       "      <td>0</td>\n",
       "    </tr>\n",
       "    <tr>\n",
       "      <th>1</th>\n",
       "      <td>53</td>\n",
       "      <td>Male</td>\n",
       "      <td>Typical angina</td>\n",
       "      <td>140</td>\n",
       "      <td>203</td>\n",
       "      <td>Greater than 120 mg/ml</td>\n",
       "      <td>Normal</td>\n",
       "      <td>155</td>\n",
       "      <td>Yes</td>\n",
       "      <td>3.1</td>\n",
       "      <td>Upsloping</td>\n",
       "      <td>Zero</td>\n",
       "      <td>Reversable Defect</td>\n",
       "      <td>0</td>\n",
       "    </tr>\n",
       "    <tr>\n",
       "      <th>2</th>\n",
       "      <td>70</td>\n",
       "      <td>Male</td>\n",
       "      <td>Typical angina</td>\n",
       "      <td>145</td>\n",
       "      <td>174</td>\n",
       "      <td>Lower than 120 mg/ml</td>\n",
       "      <td>ST-T wave abnormality</td>\n",
       "      <td>125</td>\n",
       "      <td>Yes</td>\n",
       "      <td>2.6</td>\n",
       "      <td>Upsloping</td>\n",
       "      <td>Zero</td>\n",
       "      <td>Reversable Defect</td>\n",
       "      <td>0</td>\n",
       "    </tr>\n",
       "  </tbody>\n",
       "</table>\n",
       "</div>"
      ],
      "text/plain": [
       "   age   sex chest_pain_type  resting_blood_pressure  cholestoral  \\\n",
       "0   52  Male  Typical angina                     125          212   \n",
       "1   53  Male  Typical angina                     140          203   \n",
       "2   70  Male  Typical angina                     145          174   \n",
       "\n",
       "      fasting_blood_sugar               rest_ecg  Max_heart_rate  \\\n",
       "0    Lower than 120 mg/ml  ST-T wave abnormality             168   \n",
       "1  Greater than 120 mg/ml                 Normal             155   \n",
       "2    Lower than 120 mg/ml  ST-T wave abnormality             125   \n",
       "\n",
       "  exercise_induced_angina  oldpeak        slope vessels_colored_by_flourosopy  \\\n",
       "0                      No      1.0  Downsloping                           Two   \n",
       "1                     Yes      3.1    Upsloping                          Zero   \n",
       "2                     Yes      2.6    Upsloping                          Zero   \n",
       "\n",
       "         thalassemia  target  \n",
       "0  Reversable Defect       0  \n",
       "1  Reversable Defect       0  \n",
       "2  Reversable Defect       0  "
      ]
     },
     "execution_count": 3,
     "metadata": {},
     "output_type": "execute_result"
    }
   ],
   "source": [
    "df.head(3)"
   ]
  },
  {
   "cell_type": "markdown",
   "id": "2a965278",
   "metadata": {},
   "source": [
    "### Data analysis and visualization"
   ]
  },
  {
   "cell_type": "code",
   "execution_count": 4,
   "id": "19d6dd4e",
   "metadata": {},
   "outputs": [
    {
     "name": "stdout",
     "output_type": "stream",
     "text": [
      "<class 'pandas.core.frame.DataFrame'>\n",
      "RangeIndex: 1025 entries, 0 to 1024\n",
      "Data columns (total 14 columns):\n",
      " #   Column                         Non-Null Count  Dtype  \n",
      "---  ------                         --------------  -----  \n",
      " 0   age                            1025 non-null   int64  \n",
      " 1   sex                            1025 non-null   object \n",
      " 2   chest_pain_type                1025 non-null   object \n",
      " 3   resting_blood_pressure         1025 non-null   int64  \n",
      " 4   cholestoral                    1025 non-null   int64  \n",
      " 5   fasting_blood_sugar            1025 non-null   object \n",
      " 6   rest_ecg                       1025 non-null   object \n",
      " 7   Max_heart_rate                 1025 non-null   int64  \n",
      " 8   exercise_induced_angina        1025 non-null   object \n",
      " 9   oldpeak                        1025 non-null   float64\n",
      " 10  slope                          1025 non-null   object \n",
      " 11  vessels_colored_by_flourosopy  1025 non-null   object \n",
      " 12  thalassemia                    1025 non-null   object \n",
      " 13  target                         1025 non-null   int64  \n",
      "dtypes: float64(1), int64(5), object(8)\n",
      "memory usage: 112.2+ KB\n"
     ]
    }
   ],
   "source": [
    "df.info()"
   ]
  },
  {
   "cell_type": "code",
   "execution_count": 5,
   "id": "4449a12d",
   "metadata": {},
   "outputs": [
    {
     "data": {
      "text/html": [
       "<div>\n",
       "<style scoped>\n",
       "    .dataframe tbody tr th:only-of-type {\n",
       "        vertical-align: middle;\n",
       "    }\n",
       "\n",
       "    .dataframe tbody tr th {\n",
       "        vertical-align: top;\n",
       "    }\n",
       "\n",
       "    .dataframe thead th {\n",
       "        text-align: right;\n",
       "    }\n",
       "</style>\n",
       "<table border=\"1\" class=\"dataframe\">\n",
       "  <thead>\n",
       "    <tr style=\"text-align: right;\">\n",
       "      <th></th>\n",
       "      <th>age</th>\n",
       "      <th>resting_blood_pressure</th>\n",
       "      <th>cholestoral</th>\n",
       "      <th>Max_heart_rate</th>\n",
       "      <th>oldpeak</th>\n",
       "      <th>target</th>\n",
       "    </tr>\n",
       "  </thead>\n",
       "  <tbody>\n",
       "    <tr>\n",
       "      <th>count</th>\n",
       "      <td>1025.000000</td>\n",
       "      <td>1025.000000</td>\n",
       "      <td>1025.00000</td>\n",
       "      <td>1025.000000</td>\n",
       "      <td>1025.000000</td>\n",
       "      <td>1025.000000</td>\n",
       "    </tr>\n",
       "    <tr>\n",
       "      <th>mean</th>\n",
       "      <td>54.434146</td>\n",
       "      <td>131.611707</td>\n",
       "      <td>246.00000</td>\n",
       "      <td>149.114146</td>\n",
       "      <td>1.071512</td>\n",
       "      <td>0.513171</td>\n",
       "    </tr>\n",
       "    <tr>\n",
       "      <th>std</th>\n",
       "      <td>9.072290</td>\n",
       "      <td>17.516718</td>\n",
       "      <td>51.59251</td>\n",
       "      <td>23.005724</td>\n",
       "      <td>1.175053</td>\n",
       "      <td>0.500070</td>\n",
       "    </tr>\n",
       "    <tr>\n",
       "      <th>min</th>\n",
       "      <td>29.000000</td>\n",
       "      <td>94.000000</td>\n",
       "      <td>126.00000</td>\n",
       "      <td>71.000000</td>\n",
       "      <td>0.000000</td>\n",
       "      <td>0.000000</td>\n",
       "    </tr>\n",
       "    <tr>\n",
       "      <th>25%</th>\n",
       "      <td>48.000000</td>\n",
       "      <td>120.000000</td>\n",
       "      <td>211.00000</td>\n",
       "      <td>132.000000</td>\n",
       "      <td>0.000000</td>\n",
       "      <td>0.000000</td>\n",
       "    </tr>\n",
       "    <tr>\n",
       "      <th>50%</th>\n",
       "      <td>56.000000</td>\n",
       "      <td>130.000000</td>\n",
       "      <td>240.00000</td>\n",
       "      <td>152.000000</td>\n",
       "      <td>0.800000</td>\n",
       "      <td>1.000000</td>\n",
       "    </tr>\n",
       "    <tr>\n",
       "      <th>75%</th>\n",
       "      <td>61.000000</td>\n",
       "      <td>140.000000</td>\n",
       "      <td>275.00000</td>\n",
       "      <td>166.000000</td>\n",
       "      <td>1.800000</td>\n",
       "      <td>1.000000</td>\n",
       "    </tr>\n",
       "    <tr>\n",
       "      <th>max</th>\n",
       "      <td>77.000000</td>\n",
       "      <td>200.000000</td>\n",
       "      <td>564.00000</td>\n",
       "      <td>202.000000</td>\n",
       "      <td>6.200000</td>\n",
       "      <td>1.000000</td>\n",
       "    </tr>\n",
       "  </tbody>\n",
       "</table>\n",
       "</div>"
      ],
      "text/plain": [
       "               age  resting_blood_pressure  cholestoral  Max_heart_rate  \\\n",
       "count  1025.000000             1025.000000   1025.00000     1025.000000   \n",
       "mean     54.434146              131.611707    246.00000      149.114146   \n",
       "std       9.072290               17.516718     51.59251       23.005724   \n",
       "min      29.000000               94.000000    126.00000       71.000000   \n",
       "25%      48.000000              120.000000    211.00000      132.000000   \n",
       "50%      56.000000              130.000000    240.00000      152.000000   \n",
       "75%      61.000000              140.000000    275.00000      166.000000   \n",
       "max      77.000000              200.000000    564.00000      202.000000   \n",
       "\n",
       "           oldpeak       target  \n",
       "count  1025.000000  1025.000000  \n",
       "mean      1.071512     0.513171  \n",
       "std       1.175053     0.500070  \n",
       "min       0.000000     0.000000  \n",
       "25%       0.000000     0.000000  \n",
       "50%       0.800000     1.000000  \n",
       "75%       1.800000     1.000000  \n",
       "max       6.200000     1.000000  "
      ]
     },
     "execution_count": 5,
     "metadata": {},
     "output_type": "execute_result"
    }
   ],
   "source": [
    "df.describe()"
   ]
  },
  {
   "cell_type": "code",
   "execution_count": 6,
   "id": "c403361b",
   "metadata": {},
   "outputs": [
    {
     "data": {
      "text/plain": [
       "1    0.513171\n",
       "0    0.486829\n",
       "Name: target, dtype: float64"
      ]
     },
     "execution_count": 6,
     "metadata": {},
     "output_type": "execute_result"
    }
   ],
   "source": [
    "df['target'].value_counts(normalize=True)"
   ]
  },
  {
   "cell_type": "code",
   "execution_count": 7,
   "id": "bf601e40",
   "metadata": {},
   "outputs": [
    {
     "data": {
      "text/plain": [
       "<AxesSubplot:xlabel='target', ylabel='count'>"
      ]
     },
     "execution_count": 7,
     "metadata": {},
     "output_type": "execute_result"
    },
    {
     "data": {
      "image/png": "[encoded data removed]",
      "text/plain": [
       "<Figure size 432x288 with 1 Axes>"
      ]
     },
     "metadata": {
      "needs_background": "light"
     },
     "output_type": "display_data"
    }
   ],
   "source": [
    "# plot target counts\n",
    "sns.countplot(x=\"target\", data=df, palette=\"bwr\")"
   ]
  },
  {
   "cell_type": "code",
   "execution_count": 8,
   "id": "bfba0045",
   "metadata": {},
   "outputs": [
    {
     "data": {
      "text/plain": [
       "<AxesSubplot:xlabel='sex', ylabel='count'>"
      ]
     },
     "execution_count": 8,
     "metadata": {},
     "output_type": "execute_result"
    },
    {
     "data": {
      "image/png": "[encoded data removed]",
      "text/plain": [
       "<Figure size 432x288 with 1 Axes>"
      ]
     },
     "metadata": {
      "needs_background": "light"
     },
     "output_type": "display_data"
    }
   ],
   "source": [
    "#plot counts based on gender\n",
    "sns.countplot(x='sex', data=df, palette=\"mako_r\")"
   ]
  },
  {
   "cell_type": "code",
   "execution_count": 9,
   "id": "1447e438",
   "metadata": {},
   "outputs": [
    {
     "data": {
      "text/plain": [
       "<AxesSubplot:xlabel='sex'>"
      ]
     },
     "execution_count": 9,
     "metadata": {},
     "output_type": "execute_result"
    },
    {
     "data": {
      "image/png": "[encoded data removed]",
      "text/plain": [
       "<Figure size 1080x432 with 1 Axes>"
      ]
     },
     "metadata": {
      "needs_background": "light"
     },
     "output_type": "display_data"
    }
   ],
   "source": [
    "# the following lines of code will analyze gender Vs Target\n",
    "pd.crosstab(df.sex,df.target).plot(kind=\"bar\",figsize=(15,6),color=['#1CA53B','#AA1111' ])"
   ]
  },
  {
   "cell_type": "markdown",
   "id": "d5435086",
   "metadata": {},
   "source": [
    "### Data preprocessing"
   ]
  },
  {
   "cell_type": "code",
   "execution_count": 10,
   "id": "83defd44",
   "metadata": {},
   "outputs": [],
   "source": [
    "# Coding Categorical data into numerical\n",
    "encoder = LabelEncoder()\n",
    "cols = ['sex', 'chest_pain_type', 'fasting_blood_sugar', 'rest_ecg', 'exercise_induced_angina', 'slope',\n",
    "        'vessels_colored_by_flourosopy', 'thalassemia']\n",
    "df[cols] = df[cols].apply(LabelEncoder().fit_transform)"
   ]
  },
  {
   "cell_type": "code",
   "execution_count": 11,
   "id": "727e47b1",
   "metadata": {},
   "outputs": [
    {
     "data": {
      "text/html": [
       "<div>\n",
       "<style scoped>\n",
       "    .dataframe tbody tr th:only-of-type {\n",
       "        vertical-align: middle;\n",
       "    }\n",
       "\n",
       "    .dataframe tbody tr th {\n",
       "        vertical-align: top;\n",
       "    }\n",
       "\n",
       "    .dataframe thead th {\n",
       "        text-align: right;\n",
       "    }\n",
       "</style>\n",
       "<table border=\"1\" class=\"dataframe\">\n",
       "  <thead>\n",
       "    <tr style=\"text-align: right;\">\n",
       "      <th></th>\n",
       "      <th>age</th>\n",
       "      <th>sex</th>\n",
       "      <th>chest_pain_type</th>\n",
       "      <th>resting_blood_pressure</th>\n",
       "      <th>cholestoral</th>\n",
       "      <th>fasting_blood_sugar</th>\n",
       "      <th>rest_ecg</th>\n",
       "      <th>Max_heart_rate</th>\n",
       "      <th>exercise_induced_angina</th>\n",
       "      <th>oldpeak</th>\n",
       "      <th>slope</th>\n",
       "      <th>vessels_colored_by_flourosopy</th>\n",
       "      <th>thalassemia</th>\n",
       "      <th>target</th>\n",
       "    </tr>\n",
       "  </thead>\n",
       "  <tbody>\n",
       "    <tr>\n",
       "      <th>0</th>\n",
       "      <td>52</td>\n",
       "      <td>1</td>\n",
       "      <td>3</td>\n",
       "      <td>125</td>\n",
       "      <td>212</td>\n",
       "      <td>1</td>\n",
       "      <td>2</td>\n",
       "      <td>168</td>\n",
       "      <td>0</td>\n",
       "      <td>1.0</td>\n",
       "      <td>0</td>\n",
       "      <td>3</td>\n",
       "      <td>3</td>\n",
       "      <td>0</td>\n",
       "    </tr>\n",
       "    <tr>\n",
       "      <th>1</th>\n",
       "      <td>53</td>\n",
       "      <td>1</td>\n",
       "      <td>3</td>\n",
       "      <td>140</td>\n",
       "      <td>203</td>\n",
       "      <td>0</td>\n",
       "      <td>1</td>\n",
       "      <td>155</td>\n",
       "      <td>1</td>\n",
       "      <td>3.1</td>\n",
       "      <td>2</td>\n",
       "      <td>4</td>\n",
       "      <td>3</td>\n",
       "      <td>0</td>\n",
       "    </tr>\n",
       "    <tr>\n",
       "      <th>2</th>\n",
       "      <td>70</td>\n",
       "      <td>1</td>\n",
       "      <td>3</td>\n",
       "      <td>145</td>\n",
       "      <td>174</td>\n",
       "      <td>1</td>\n",
       "      <td>2</td>\n",
       "      <td>125</td>\n",
       "      <td>1</td>\n",
       "      <td>2.6</td>\n",
       "      <td>2</td>\n",
       "      <td>4</td>\n",
       "      <td>3</td>\n",
       "      <td>0</td>\n",
       "    </tr>\n",
       "    <tr>\n",
       "      <th>3</th>\n",
       "      <td>61</td>\n",
       "      <td>1</td>\n",
       "      <td>3</td>\n",
       "      <td>148</td>\n",
       "      <td>203</td>\n",
       "      <td>1</td>\n",
       "      <td>2</td>\n",
       "      <td>161</td>\n",
       "      <td>0</td>\n",
       "      <td>0.0</td>\n",
       "      <td>0</td>\n",
       "      <td>1</td>\n",
       "      <td>3</td>\n",
       "      <td>0</td>\n",
       "    </tr>\n",
       "    <tr>\n",
       "      <th>4</th>\n",
       "      <td>62</td>\n",
       "      <td>0</td>\n",
       "      <td>3</td>\n",
       "      <td>138</td>\n",
       "      <td>294</td>\n",
       "      <td>0</td>\n",
       "      <td>2</td>\n",
       "      <td>106</td>\n",
       "      <td>0</td>\n",
       "      <td>1.9</td>\n",
       "      <td>1</td>\n",
       "      <td>2</td>\n",
       "      <td>0</td>\n",
       "      <td>0</td>\n",
       "    </tr>\n",
       "  </tbody>\n",
       "</table>\n",
       "</div>"
      ],
      "text/plain": [
       "   age  sex  chest_pain_type  resting_blood_pressure  cholestoral  \\\n",
       "0   52    1                3                     125          212   \n",
       "1   53    1                3                     140          203   \n",
       "2   70    1                3                     145          174   \n",
       "3   61    1                3                     148          203   \n",
       "4   62    0                3                     138          294   \n",
       "\n",
       "   fasting_blood_sugar  rest_ecg  Max_heart_rate  exercise_induced_angina  \\\n",
       "0                    1         2             168                        0   \n",
       "1                    0         1             155                        1   \n",
       "2                    1         2             125                        1   \n",
       "3                    1         2             161                        0   \n",
       "4                    0         2             106                        0   \n",
       "\n",
       "   oldpeak  slope  vessels_colored_by_flourosopy  thalassemia  target  \n",
       "0      1.0      0                              3            3       0  \n",
       "1      3.1      2                              4            3       0  \n",
       "2      2.6      2                              4            3       0  \n",
       "3      0.0      0                              1            3       0  \n",
       "4      1.9      1                              2            0       0  "
      ]
     },
     "execution_count": 11,
     "metadata": {},
     "output_type": "execute_result"
    }
   ],
   "source": [
    "df.head()"
   ]
  },
  {
   "cell_type": "code",
   "execution_count": 12,
   "id": "f17166f6",
   "metadata": {},
   "outputs": [],
   "source": [
    "y = df.target.values\n",
    "X = df.drop(['target'], axis = 1)\n",
    "X_train,X_test,y_train,y_test = train_test_split(X,y,test_size=0.25,random_state=42)\n",
    "accuracies = {}"
   ]
  },
  {
   "cell_type": "markdown",
   "id": "b7139dd6",
   "metadata": {},
   "source": [
    "### Applying the ML model"
   ]
  },
  {
   "cell_type": "code",
   "execution_count": 13,
   "id": "9e8d7b25",
   "metadata": {},
   "outputs": [],
   "source": [
    "from sklearn.linear_model import LogisticRegression\n",
    "lrmodel = LogisticRegression(random_state=0, solver = 'lbfgs', multi_class = 'auto', max_iter=1000)\n",
    "lrmodel.fit(X_train, y_train)\n",
    "lr_pred = lrmodel.predict(X_test)"
   ]
  },
  {
   "cell_type": "code",
   "execution_count": 14,
   "id": "43cbfce8",
   "metadata": {},
   "outputs": [
    {
     "name": "stdout",
     "output_type": "stream",
     "text": [
      "0.77431906614786\n"
     ]
    }
   ],
   "source": [
    "score = lrmodel.score(X_test,y_test)\n",
    "print(score)"
   ]
  },
  {
   "cell_type": "code",
   "execution_count": 15,
   "id": "4dd836ef",
   "metadata": {},
   "outputs": [],
   "source": [
    "from sklearn.neighbors import KNeighborsClassifier\n",
    "knn = KNeighborsClassifier(n_neighbors = 3)  # n_neighbors means k\n",
    "knn.fit(X_train, y_train)\n",
    "Knn_pred = knn.predict(X_test)"
   ]
  },
  {
   "cell_type": "code",
   "execution_count": 16,
   "id": "e5216f80",
   "metadata": {},
   "outputs": [
    {
     "name": "stdout",
     "output_type": "stream",
     "text": [
      "0.8832684824902723\n"
     ]
    }
   ],
   "source": [
    "scoreknn = knn.score(X_test,y_test)\n",
    "print(scoreknn)"
   ]
  },
  {
   "cell_type": "code",
   "execution_count": 17,
   "id": "d616208e",
   "metadata": {},
   "outputs": [
    {
     "data": {
      "text/plain": [
       "<sklearn.metrics._plot.confusion_matrix.ConfusionMatrixDisplay at 0x29460805f70>"
      ]
     },
     "execution_count": 17,
     "metadata": {},
     "output_type": "execute_result"
    },
    {
     "data": {
      "image/png": "[encoded data removed]",
      "text/plain": [
       "<Figure size 432x288 with 2 Axes>"
      ]
     },
     "metadata": {
      "needs_background": "light"
     },
     "output_type": "display_data"
    }
   ],
   "source": [
    "#Logistic Regression confusion matrix\n",
    "confusion_matrix = metrics.confusion_matrix(y_test, lr_pred)\n",
    "cm_display = metrics.ConfusionMatrixDisplay(confusion_matrix = confusion_matrix, display_labels = [False, True])\n",
    "cm_display.plot()"
   ]
  },
  {
   "cell_type": "code",
   "execution_count": 18,
   "id": "1aff3c7f",
   "metadata": {},
   "outputs": [
    {
     "data": {
      "text/plain": [
       "<sklearn.metrics._plot.confusion_matrix.ConfusionMatrixDisplay at 0x294608f57c0>"
      ]
     },
     "execution_count": 18,
     "metadata": {},
     "output_type": "execute_result"
    },
    {
     "data": {
      "image/png": "[encoded data removed]",
      "text/plain": [
       "<Figure size 432x288 with 2 Axes>"
      ]
     },
     "metadata": {
      "needs_background": "light"
     },
     "output_type": "display_data"
    }
   ],
   "source": [
    "#knn confusion matrix\n",
    "confusion_matrix = metrics.confusion_matrix(y_test, Knn_pred)\n",
    "cm_display = metrics.ConfusionMatrixDisplay(confusion_matrix = confusion_matrix, display_labels = [False, True])\n",
    "cm_display.plot()"
   ]
  },
  {
   "cell_type": "markdown",
   "id": "fe36ef1e",
   "metadata": {},
   "source": [
    "Since Knn has better score we are goining to use it as the ML model for our classifier"
   ]
  },
  {
   "cell_type": "markdown",
   "id": "8f720241",
   "metadata": {},
   "source": [
    "## Part 2: Building The GUI"
   ]
  },
  {
   "cell_type": "markdown",
   "id": "a3c57c1a",
   "metadata": {},
   "source": [
    "### Importing Tkinter"
   ]
  },
  {
   "cell_type": "code",
   "execution_count": 19,
   "id": "c319e239",
   "metadata": {},
   "outputs": [],
   "source": [
    "from tkinter import *\n",
    "import tkinter as tk"
   ]
  },
  {
   "cell_type": "markdown",
   "id": "336eb668",
   "metadata": {},
   "source": [
    "### Building the app"
   ]
  },
  {
   "cell_type": "code",
   "execution_count": 21,
   "id": "9592cfe3",
   "metadata": {},
   "outputs": [],
   "source": [
    "def check_inputs():\n",
    "    if age.get() == \"\":\n",
    "        print(\"Age Field is Empty!!\")\n",
    "        Label(win,text=\"Age Field is Empty!!\",fg=\"blue\",bg=\"yellow\",font = (\"Calibri 10 bold\")).place(x=12,y=600)\n",
    "\n",
    "\n",
    "    elif rbp.get() == \"\":\n",
    "        print(\"Resting Blood Pressure Field is Empty!!\")\n",
    "        Label(win,text=\"Resting Blood Pressure Field is Empty!!\",fg=\"blue\",bg=\"yellow\",font = (\"Calibri 10 bold\")).place(x=12,y=600)\n",
    "\n",
    "    elif chol.get() == \"\":\n",
    "        print(\"Cholestrol Field is Empty!!\")\n",
    "        Label(win,text=\"Cholestrol Field is Empty!!\",fg=\"blue\",bg=\"yellow\",font = (\"Calibri 10 bold\")).place(x=12,y=600)\n",
    "\n",
    "    elif heart_rate.get() == \"\":\n",
    "        print(\"Heart Rate Field is Empty!!\")\n",
    "        \n",
    "        Label(win,text=\"Heart Rate Field is Empty!!\",fg=\"blue\",bg=\"yellow\",font = (\"Calibri 10 bold\")).place(x=12,y=600)\n",
    "    elif peak.get() == \"\":\n",
    "        print(\"Depression By Exercise Field is Empty!!\")\n",
    "        Label(win,text=\"Depression By Exercise Field is Empty!!\",fg=\"blue\",bg=\"yellow\",font = (\"Calibri 10 bold\")).place(x=12,y=600)\n",
    "\n",
    "    else:\n",
    "        predict()\n",
    "\n",
    "\n",
    "def predict():\n",
    "    gender_dict = {\"Male\":1, \"Female\":0}\n",
    "    fbs_dict = {\"True\":1, \"False\":0}\n",
    "    eia_dict = {\"True\":1, \"False\":0}\n",
    "    cp_dict = {\"1: typical angina\":0,\"2: atypical angina\":1,\"3: non-anginal pain\":2,\"4: asymptomatic\":3}\n",
    "    thal_dict = {\"0: No Test\":0,\"1: Fixed Defect\":1,\"2: Normal Flow\":2,\"3: Reversible Defect\":3}\n",
    "    Pred_dict = {0:\"Prediction: No Heart Disease Detected\", 1:\"Prediction: Signs of Heart Disease Deteced\\nYou should consult with your Doctor!\"}\n",
    "    \n",
    "    data = [float(age.get()),gender_dict[str(radio.get())], cp_dict[str(variable.get())], float(rbp.get()),\n",
    "           float(chol.get()),fbs_dict[str(radio_fbs.get())], int(str(variable_ecg.get())) - 1 , float(heart_rate.get()),\n",
    "           eia_dict[str(radio_eia.get())], float(peak.get()), int(str(variable_slope.get())) - 1,int(str(variable_n_vessels.get())) - 1,\n",
    "           thal_dict[str(variable_thal.get())]]\n",
    "\n",
    "    #knn model is used\n",
    "    prediction = knn.predict(np.array(data).reshape(1,13))\n",
    "    pred_label = Pred_dict[prediction.tolist()[0]]\n",
    "    Label(win,text=pred_label,fg=\"blue\",bg=\"yellow\",font = (\"Calibri 10 bold\")).place(x=12,y=600)\n",
    "\n",
    "\n",
    "\n",
    "def reset():\n",
    "    age.set(\"\")\n",
    "    rbp.set(\"\")\n",
    "    chol.set(\"\")\n",
    "    heart_rate.set(\"\")\n",
    "    peak.set(\"\")\n",
    "\n",
    "\n",
    "\n",
    "\n",
    "win =  Tk()\n",
    "\n",
    "win.geometry(\"450x640\")\n",
    "win.configure(background=\"#Eaedee\")\n",
    "win.title(\"Heart Disease Classifier\")\n",
    "win.iconbitmap('icon.ico')\n",
    "\n",
    "title = Label(win, text=\"Heart Disease Classifier\", bg=\"grey\", width=\"240\", height=\"2\", fg=\"white\", font = (\"Arial 20 italic\")).pack()\n",
    "\n",
    "age = Label(win, text=\"Age in Years\", bg=\"#Eaedee\", font=(\"Verdana 12\")).place(x=12, y=70)\n",
    "\n",
    "rbp = Label(win, text=\"Resting Blood Pressure \", bg=\"#Eaedee\", font=(\"Verdana 12\")).place(x=12, y=105)\n",
    "\n",
    "chol = Label(win, text=\"Cholestrol mg/dl \", bg=\"#Eaedee\", font=(\"Verdana 12\")).place(x=12, y=145)\n",
    "\n",
    "heart_rate = Label(win, text=\"Maximum Heart Rate \", bg=\"#Eaedee\", font=(\"Verdana 12\")).place(x=12, y=185)\n",
    "\n",
    "peak = Label(win, text=\"Depression By Exercise \",bg=\"#Eaedee\",font = (\"Verdana 12\")).place(x=12,y=225)\n",
    "\n",
    "\n",
    "  \n",
    "Gender = Label(win, text=\"Gender \",bg=\"#Eaedee\",font = (\"Verdana 12\")).place(x=12,y=265)\n",
    "\n",
    "radio = StringVar()\n",
    "Male = Radiobutton(win, text=\"Male\",bg=\"#Eaedee\",variable=radio,value=\"Male\",font = (\"Verdana 12\")).place(x=220,y=265)\n",
    "Female = Radiobutton(win, text=\"Female\",bg=\"#Eaedee\",variable=radio,value=\"Female\",font = (\"Verdana 12\")).place(x=320,y=265)\n",
    "\n",
    "FBS = Label(win, text=\"Fasting Blood Pressure \",bg=\"#Eaedee\",font = (\"Verdana 12\")).place(x=12,y=285)\n",
    "\n",
    "radio_fbs = StringVar()\n",
    "Male = Radiobutton(win, text=\"True\",bg=\"#Eaedee\",variable=radio_fbs,value=\"True\",font = (\"Verdana 12\")).place(x=220,y=285)\n",
    "Female = Radiobutton(win, text=\"False\",bg=\"#Eaedee\",variable=radio_fbs,value=\"False\",font = (\"Verdana 12\")).place(x=320,y=285)\n",
    "\n",
    "EIA = Label(win, text=\"Exercise Induced Angina\",bg=\"#Eaedee\",font = (\"Verdana 12\")).place(x=12,y=305)\n",
    "\n",
    "radio_eia = StringVar()\n",
    "Male = Radiobutton(win, text=\"True\",bg=\"#Eaedee\",variable=radio_eia,value=\"True\",font = (\"Verdana 12\")).place(x=220,y=305)\n",
    "Female = Radiobutton(win, text=\"False\",bg=\"#Eaedee\",variable=radio_eia,value=\"False\",font = (\"Verdana 12\")).place(x=320,y=305)\n",
    "\n",
    "\n",
    "cp = Label(win,text=\"Chest Pain \",bg=\"#Eaedee\",font = (\"Verdana 12\")).place(x=12,y=345)\n",
    "variable = StringVar(win)\n",
    "variable.set(\"CP\")\n",
    "w = OptionMenu(win, variable, \"1: typical angina\",\"2: atypical angina\",\"3: non-anginal pain\",\"4: asymptomatic\")\n",
    "w.place(x=220,y=345)\n",
    "\n",
    "ecg = Label(win,text=\"Resting ECG \",bg=\"#Eaedee\",font = (\"Verdana 12\")).place(x=12,y=385)\n",
    "variable_ecg = StringVar(win)\n",
    "variable_ecg.set(\"ECG\")\n",
    "w_ecg = OptionMenu(win, variable_ecg, \"1\",\"2\",\"3\")\n",
    "w_ecg.place(x=220,y=385)\n",
    "\n",
    "\n",
    "exer_slope = Label(win,text=\"Slope of Exercise \",bg=\"#Eaedee\",font = (\"Verdana 12\")).place(x=12,y=425)\n",
    "variable_slope = StringVar(win)\n",
    "variable_slope.set(\"Slope\")\n",
    "w_slope = OptionMenu(win, variable_slope, \"1\",\"2\",\"3\")\n",
    "w_slope.place(x=220,y=425)\n",
    "\n",
    "\n",
    "thal_label = Label(win,text=\"Thallium Stress \",bg=\"#Eaedee\",font = (\"Verdana 12\")).place(x=12,y=465)\n",
    "variable_thal = StringVar(win)\n",
    "variable_thal.set(\"Thal\")\n",
    "w_thal = OptionMenu(win, variable_thal, \"0: No Test\",\"1: Fixed Defect\",\"2: Normal Flow\",\"3: Reversible Defect\")\n",
    "w_thal.place(x=220,y=465)\n",
    "\n",
    "\n",
    "n_vessels = Label(win,text=\"Number Vessels \",bg=\"#Eaedee\",font = (\"Verdana 12\")).place(x=12,y=505)\n",
    "variable_n_vessels = StringVar(win)\n",
    "variable_n_vessels.set(\"N_Vessels\")\n",
    "w_n_vessels = OptionMenu(win, variable_n_vessels, \"1\",\"2\",\"3\",\"4\")\n",
    "w_n_vessels.place(x=220,y=505)\n",
    "\n",
    "\n",
    "age = StringVar()\n",
    "rbp = StringVar()\n",
    "chol = StringVar()\n",
    "heart_rate = StringVar()\n",
    "peak  = StringVar()\n",
    "Gender = StringVar()\n",
    "FBS  = StringVar()\n",
    "EIA  = StringVar()\n",
    "cp  = StringVar()\n",
    "ecg  = StringVar()\n",
    "exer_slope  = StringVar()\n",
    "thal_label  = StringVar()\n",
    "n_vessels  = StringVar()\n",
    "\n",
    "entry_age = Entry(win,textvariable = age,width=30)\n",
    "entry_age.place(x=220,y=70)\n",
    "\n",
    "entry_rbp = Entry(win,textvariable = rbp,width=30)\n",
    "entry_rbp.place(x=220,y=105)\n",
    "\n",
    "entry_chol = Entry(win,textvariable = chol,width=30)\n",
    "entry_chol.place(x=220,y=145)\n",
    "\n",
    "entry_heart_rate = Entry(win, textvariable = heart_rate,width=30)\n",
    "entry_heart_rate.place(x=220,y=185)\n",
    "\n",
    "entry_peak = Entry(win,textvariable = peak,width=30)\n",
    "entry_peak.place(x=220,y=225)\n",
    "\n",
    "reset = Button(win, text=\"Reset\", width=\"12\",height=\"1\",activebackground=\"red\",command=reset, bg=\"Pink\",font = (\"Calibri 12 \")).place(x=12, y=560)\n",
    "submit = Button(win, text=\"Classify\", width=\"12\",height=\"1\",activebackground=\"violet\", bg=\"Pink\",command=check_inputs,font = (\"Calibri 12 \")).place(x=220, y=560)\n",
    "\n",
    "\n",
    "win.mainloop()"
   ]
  },
  {
   "cell_type": "markdown",
   "id": "4104f0df",
   "metadata": {},
   "source": [
    "The app displays the predicition"
   ]
  }
 ],
 "metadata": {
  "kernelspec": {
   "display_name": "hackathon",
   "language": "python",
   "name": "hackathon"
  },
  "language_info": {
   "codemirror_mode": {
    "name": "ipython",
    "version": 3
   },
   "file_extension": ".py",
   "mimetype": "text/x-python",
   "name": "python",
   "nbconvert_exporter": "python",
   "pygments_lexer": "ipython3",
   "version": "3.8.8"
  }
 },
 "nbformat": 4,
 "nbformat_minor": 5
}
